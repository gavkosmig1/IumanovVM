{
 "cells": [
  {
   "cell_type": "markdown",
   "metadata": {},
   "source": [
    "# Задание 5"
   ]
  },
  {
   "cell_type": "code",
   "execution_count": null,
   "metadata": {},
   "outputs": [
    {
     "name": "stdout",
     "output_type": "stream",
     "text": [
      "Θ = 51\n",
      "Точный доверительный интервал: (50.5064, 51.4313; размах 0.9249\n",
      "Асимптотический доверительный интервал: (48.5060, 52.3340); pазмах 3.8281\n",
      "Бутстраповский недоверительный интервал: [46.9733, 48.1467]; pазмах 1.1733\n"
     ]
    }
   ],
   "source": [
    "import numpy as np\n",
    "import random\n",
    "\n",
    "\n",
    "N = 100\n",
    "np.random.seed(42)\n",
    "tetha = np.random.randint(100)  # сюда тету вставляете\n",
    "print(f\"Θ = {tetha}\")\n",
    "X = np.random.randint(tetha, 2 * tetha, N)\n",
    "\n",
    "tetha_s_volnoi = 2 / 3 * (np.sum(X) / N)\n",
    "a = 0.05\n",
    "\n",
    "l0 = np.max(X) / (1 + (1 - a / 2) ** (1 / N))\n",
    "r0 = np.max(X) / (1 + (a / 2) ** (1 / N))\n",
    "print(f\"Точный доверительный интервал: ({l0:.4f}, {r0:.4f}; размах {r0 - l0:.4f}\")\n",
    "\n",
    "l1 = -1.96 * (2 / 3) / 10 * np.sqrt(0.01 * np.sum(X ** 2) - (0.01 * np.sum(X)) ** 2) + tetha_s_volnoi\n",
    "r1 = 1.96 * (2 / 3) / 10 * np.sqrt(0.01 * np.sum(X ** 2) - (0.01 * np.sum(X)) ** 2) + tetha_s_volnoi\n",
    "print(f\"Асимптотический доверительный интервал: ({l1:.4f}, {r1:.4f}); pазмах {r1 - l1:.4f}\")\n",
    "\n",
    "S = 100000       # миллион оно считало 34 минуты, мой ноут начал шипеть где-то на 10, больше 100к больше не генерирую\n",
    "M = np.array([])\n",
    "for i in range(S):\n",
    "    M = np.append(M, 2 / 3 * np.mean(np.random.choice(X, size=len(X))) - 2 / 3 * np.mean(X))\n",
    "M = np.sort(M)\n",
    "\n",
    "l2 = 2 / 3 * np.mean(X) + M[24]\n",
    "r2 = 2 / 3 * np.mean(X) + M[974]\n",
    "\n",
    "print(f\"Бутстраповский недоверительный интервал: [{l2:.4f}, {r2:.4f}]; pазмах {r2 - l2:.4f}\")\n",
    "\n"
   ]
  },
  {
   "cell_type": "markdown",
   "metadata": {},
   "source": [
    "Точный доверительный интервал: (50.5064, 51.4313); размах 0.9249\n",
    "\n",
    "Асимптотический доверительный интервал: (48.5060, 52.3340); pазмах 3.8281\n",
    "\n",
    "Бутстраповский недоверительный интервал: [46.5667, 47.4133]; pазмах 0.8467   на S = миллион"
   ]
  },
  {
   "cell_type": "markdown",
   "metadata": {},
   "source": [
    "### Сравнил, при 10000 бутстрапов он похож на ассимптотический0, но при 100000 он уже съезжает куда-то не туда и начинает быть узким огогошеньки, на миллоне так ваще хана. Но в общем-то ассимптотический по крайней мере покрывает точный интервал, но имеет максимальную ширину. Точный - узкий и хорош и вообще лапочка. Бустрап че-то среднее но иногда не туда. На миллионом бутстрапе размах оказался меньше, чем в точном, что настораживает"
   ]
  },
  {
   "cell_type": "markdown",
   "metadata": {},
   "source": [
    "# Задание 6"
   ]
  },
  {
   "cell_type": "code",
   "execution_count": 18,
   "metadata": {},
   "outputs": [
    {
     "name": "stdout",
     "output_type": "stream",
     "text": [
      "θ = 3\n",
      "Доверительный интервал для медианы: [1.2877, 1.4584]; размах 0.1706\n",
      "Ассимптотический доверительный интервал: [2.7579, 3.6149]; размах 0.8571\n",
      "Бутстраповский-параметрический доверительныйинтервал: [2.6591,  3.4572]; размах 0.7981\n",
      "Бутстраповский-непараметрический доверительный интервал: [2.6333, 2.7556; размах 0.1223\n"
     ]
    }
   ],
   "source": [
    "import numpy as np\n",
    "\n",
    "def f1(x, tetha):\n",
    "    return (1 - x) ** (1 / (1 - tetha))\n",
    "def f2(X, N):\n",
    "    return 1 + N / sum([np.log(x) for x in X])\n",
    "\n",
    "\n",
    "np.random.seed(42)\n",
    "tetha = 3  # сюда тету вставляете\n",
    "N = 100\n",
    "print(f\"θ = {tetha}\")\n",
    "a = 0.05\n",
    "X.sort()\n",
    "\n",
    "tetha_s_volnoi = N / np.sum(np.log(X)) + 1\n",
    "\n",
    "l1 = (-(1.96 * np.log(2) * (2 ** (1 / (tetha_s_volnoi - 1)))) / (tetha_s_volnoi - 1) / 10 + 2 ** (1 / (tetha_s_volnoi - 1)))\n",
    "r1 = (1.96 * np.log(2) * (2 ** (1 / (tetha_s_volnoi - 1)))) / (tetha_s_volnoi - 1) / 10 + 2 ** (1 / (tetha_s_volnoi - 1))\n",
    "print(f\"Доверительный интервал для медианы: [{l1:.4f}, {r1:.4f}]; размах {r1 - l1:.4f}\")\n",
    "\n",
    "\n",
    "l2 = -1.96 * (tetha_s_volnoi - 1) / np.sqrt(N) + tetha_s_volnoi\n",
    "r2 = 1.96 * (tetha_s_volnoi - 1) / np.sqrt(N) + tetha_s_volnoi\n",
    "print(f\"Ассимптотический доверительный интервал: [{l2:.4f}, {r2:.4f}]; размах {r2 - l2:.4f}\")\n",
    "\n",
    "M = np.sort(np.array([f2([f1(x, tetha) for x in np.random.sample(N)], N) for i in range(50000)]))\n",
    "\n",
    "l3 = M[int(a / 2 * 50000)]\n",
    "r3 = M[int((1 - a / 2) * 50000)]\n",
    "print(f\"Бутстраповский-параметрический доверительныйинтервал: [{l3:.4f},  {r3:.4f}]; размах {r3 - l3:.4f}\")\n",
    "\n",
    "M = np.array([])\n",
    "S = 100000      # Миллион даже не пытался сгенерировать\n",
    "for i in range(S):\n",
    "    M = np.append(M, N / np.sum(np.log((np.random.choice(X, size = len(X))))) + 1 - tetha_s_volnoi)\n",
    "M = np.sort(M)\n",
    "\n",
    "l4 = tetha_s_volnoi + M[74]\n",
    "r4 = tetha_s_volnoi + M[974]\n",
    "print(f\"Бутстраповский-непараметрический доверительный интервал: [{l4:.4f}, {r4:.4f}; размах {r4 - l4:.4f}\")"
   ]
  },
  {
   "cell_type": "markdown",
   "metadata": {},
   "source": []
  }
 ],
 "metadata": {
  "kernelspec": {
   "display_name": "Python 3",
   "language": "python",
   "name": "python3"
  },
  "language_info": {
   "codemirror_mode": {
    "name": "ipython",
    "version": 3
   },
   "file_extension": ".py",
   "mimetype": "text/x-python",
   "name": "python",
   "nbconvert_exporter": "python",
   "pygments_lexer": "ipython3",
   "version": "3.11.5"
  }
 },
 "nbformat": 4,
 "nbformat_minor": 2
}
