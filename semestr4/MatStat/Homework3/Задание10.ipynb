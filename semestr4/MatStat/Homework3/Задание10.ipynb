{
 "cells": [
  {
   "cell_type": "code",
   "execution_count": 8,
   "metadata": {},
   "outputs": [
    {
     "name": "stdout",
     "output_type": "stream",
     "text": [
      "a)\n",
      "Delta = 1.4\n",
      "p-value = 0.03968\n",
      "б)\n",
      "p-value = 0.0138\n"
     ]
    }
   ],
   "source": [
    "import numpy as np\n",
    "import math\n",
    "\n",
    "print(\"a)\")\n",
    "n = 100\n",
    "N = 10000\n",
    "exp = np.array([5, 8, 6, 12, 14, 18, 11, 6, 13, 7])\n",
    "numbers = np.array([1 for _ in range(10)])\n",
    "x = [i for i in range(10)]\n",
    "empF = np.array([sum(exp[:i]) for i in range(len(exp)+1)]) / n\n",
    "theoF = np.array([sum(numbers[:i]) for i in range(len(numbers))]) / 10\n",
    "\n",
    "Delta = round(np.max([np.sqrt(n) * max(np.abs(theoF[i] - empF[i]),\n",
    "                                   np.abs(theoF[i] - empF[i+1]))\n",
    "                                   for i in range(empF.size - 1)]), 5)\n",
    "print(f\"Delta = {Delta}\")\n",
    "\n",
    "\n",
    "def kolmogor_sum(x, n):\n",
    "    S = 1\n",
    "    for i in range(1, n):\n",
    "        S += 2 * (-1) ** i * np.exp(-2 * (i**2) * (x**2))\n",
    "    return S\n",
    "\n",
    "p_value = round(1 - kolmogor_sum(Delta, N), 5)\n",
    "print(f\"p-value = {p_value}\")\n",
    "\n",
    "print(\"б)\")\n",
    "def normal_distr(x, mean, sigma):\n",
    "    return 0.5 * (1 + math.erf((x - mean)/(np.sqrt(2) * sigma)))\n",
    "\n",
    "def f(mean, sigma, N, n):\n",
    "    delta_arr  = []\n",
    "    for i in range(N):\n",
    "        a = np.random.normal(mean, sigma, n)\n",
    "        bempF = [i / n for i in range(n + 1)]\n",
    "        bmean = np.mean(a)\n",
    "        bsigma = np.std(a) * n /(n - 1)\n",
    "        a = sorted(a)\n",
    "\n",
    "        delta_arr.append(np.max([np.sqrt(n) * max(np.abs(normal_distr( a[j], bmean, bsigma) - bempF[j]), \\\n",
    "                                     np.abs(normal_distr(a[j], bmean, bsigma) - bempF[j+1])) \\\n",
    "                                        for j in range(len(a))]))\n",
    "    delta_arr = np.array(delta_arr)\n",
    "    return delta_arr\n",
    "\n",
    "mean = sum([(exp[i]/n)*i for i in range(len(exp))])\n",
    "disp = sum([exp[i]*(i - mean)**2 / (n - 1) for i in range(len(exp))])\n",
    "sigma = np.sqrt(disp)\n",
    "D1 = np.max([np.sqrt(n) * max(np.abs(normal_distr(x[i], mean, sigma) - empF[i]),np.abs(normal_distr(x[i], mean, sigma) - empF[i+1])) for i in range(10)])\n",
    "\n",
    "delta_arr = f(mean, sigma, N, n)\n",
    "p_val = len(delta_arr[delta_arr >= D1]) / N\n",
    "print(f\"p-value = {p_val}\")"
   ]
  }
 ],
 "metadata": {
  "kernelspec": {
   "display_name": "Python 3",
   "language": "python",
   "name": "python3"
  },
  "language_info": {
   "codemirror_mode": {
    "name": "ipython",
    "version": 3
   },
   "file_extension": ".py",
   "mimetype": "text/x-python",
   "name": "python",
   "nbconvert_exporter": "python",
   "pygments_lexer": "ipython3",
   "version": "3.11.5"
  }
 },
 "nbformat": 4,
 "nbformat_minor": 2
}
