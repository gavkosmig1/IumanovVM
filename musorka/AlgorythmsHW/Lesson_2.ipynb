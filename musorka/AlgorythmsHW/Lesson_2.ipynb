{
 "cells": [
  {
   "cell_type": "code",
   "execution_count": 1,
   "metadata": {},
   "outputs": [],
   "source": [
    "def le_to_ls(le:list[tuple[int, int]]) -> list[list[int]]:\n",
    "    n = max(max(edge) for edge in le)\n",
    "    ls = [[] for _ in range(n)]\n",
    "    for edge in le:\n",
    "        ls[edge[0]].append(edge[1])\n",
    "    return ls"
   ]
  },
  {
   "cell_type": "code",
   "execution_count": 5,
   "metadata": {},
   "outputs": [],
   "source": [
    "def topological_sort(g: list[list[int]]) -> list[list[int]]:\n",
    "    visit = [False] * len(g)\n",
    "    order = []\n",
    "\n",
    "    def dfs(v: int) -> None:\n",
    "        visit[v] = True\n",
    "        for u in g[v]:\n",
    "            if not visit[u]:\n",
    "                dfs(u)\n",
    "        order.append(v)\n",
    "    \n",
    "    for v in range (len(g)):\n",
    "        if not visit[v]:\n",
    "            dfs(v)\n",
    "    \n",
    "    return reversed(order)"
   ]
  },
  {
   "cell_type": "code",
   "execution_count": 6,
   "metadata": {},
   "outputs": [
    {
     "ename": "IndexError",
     "evalue": "list index out of range",
     "output_type": "error",
     "traceback": [
      "\u001b[1;31m---------------------------------------------------------------------------\u001b[0m",
      "\u001b[1;31mIndexError\u001b[0m                                Traceback (most recent call last)",
      "Cell \u001b[1;32mIn[6], line 7\u001b[0m\n\u001b[0;32m      1\u001b[0m V \u001b[38;5;241m=\u001b[39m {\u001b[38;5;241m1\u001b[39m: \u001b[38;5;124m\"\u001b[39m\u001b[38;5;124mПиджак\u001b[39m\u001b[38;5;124m\"\u001b[39m, \u001b[38;5;241m2\u001b[39m: \u001b[38;5;124m\"\u001b[39m\u001b[38;5;124mЧасы\u001b[39m\u001b[38;5;124m\"\u001b[39m, \u001b[38;5;241m3\u001b[39m: \u001b[38;5;124m\"\u001b[39m\u001b[38;5;124mБрюки\u001b[39m\u001b[38;5;124m\"\u001b[39m,\n\u001b[0;32m      2\u001b[0m         \u001b[38;5;241m4\u001b[39m: \u001b[38;5;124m\"\u001b[39m\u001b[38;5;124mРубашка\u001b[39m\u001b[38;5;124m\"\u001b[39m, \u001b[38;5;241m5\u001b[39m: \u001b[38;5;124m\"\u001b[39m\u001b[38;5;124mТрусы\u001b[39m\u001b[38;5;124m\"\u001b[39m, \u001b[38;5;241m6\u001b[39m: \u001b[38;5;124m\"\u001b[39m\u001b[38;5;124mНоски\u001b[39m\u001b[38;5;124m\"\u001b[39m,\n\u001b[0;32m      3\u001b[0m         \u001b[38;5;241m7\u001b[39m: \u001b[38;5;124m\"\u001b[39m\u001b[38;5;124mТуфли\u001b[39m\u001b[38;5;124m\"\u001b[39m, \u001b[38;5;241m8\u001b[39m: \u001b[38;5;124m\"\u001b[39m\u001b[38;5;124mГалстук\u001b[39m\u001b[38;5;124m\"\u001b[39m, \u001b[38;5;241m9\u001b[39m: \u001b[38;5;124m\"\u001b[39m\u001b[38;5;124mРемень\u001b[39m\u001b[38;5;124m\"\u001b[39m}\n\u001b[0;32m      5\u001b[0m E \u001b[38;5;241m=\u001b[39m {(\u001b[38;5;241m8\u001b[39m, \u001b[38;5;241m1\u001b[39m), (\u001b[38;5;241m6\u001b[39m, \u001b[38;5;241m7\u001b[39m), (\u001b[38;5;241m4\u001b[39m, \u001b[38;5;241m9\u001b[39m), (\u001b[38;5;241m4\u001b[39m, \u001b[38;5;241m8\u001b[39m), (\u001b[38;5;241m9\u001b[39m, \u001b[38;5;241m1\u001b[39m), (\u001b[38;5;241m5\u001b[39m, \u001b[38;5;241m3\u001b[39m), (\u001b[38;5;241m5\u001b[39m, \u001b[38;5;241m7\u001b[39m), (\u001b[38;5;241m3\u001b[39m, \u001b[38;5;241m7\u001b[39m), (\u001b[38;5;241m3\u001b[39m, \u001b[38;5;241m9\u001b[39m)}\n\u001b[1;32m----> 7\u001b[0m E \u001b[38;5;241m=\u001b[39m \u001b[43mle_to_ls\u001b[49m\u001b[43m(\u001b[49m\u001b[43mE\u001b[49m\u001b[43m)\u001b[49m\n\u001b[0;32m      8\u001b[0m topological_sort(E)\n\u001b[0;32m      9\u001b[0m \u001b[38;5;28mprint\u001b[39m(E)\n",
      "Cell \u001b[1;32mIn[1], line 5\u001b[0m, in \u001b[0;36mle_to_ls\u001b[1;34m(le)\u001b[0m\n\u001b[0;32m      3\u001b[0m ls \u001b[38;5;241m=\u001b[39m [[] \u001b[38;5;28;01mfor\u001b[39;00m _ \u001b[38;5;129;01min\u001b[39;00m \u001b[38;5;28mrange\u001b[39m(n)]\n\u001b[0;32m      4\u001b[0m \u001b[38;5;28;01mfor\u001b[39;00m edge \u001b[38;5;129;01min\u001b[39;00m le:\n\u001b[1;32m----> 5\u001b[0m     \u001b[43mls\u001b[49m\u001b[43m[\u001b[49m\u001b[43medge\u001b[49m\u001b[43m[\u001b[49m\u001b[38;5;241;43m0\u001b[39;49m\u001b[43m]\u001b[49m\u001b[43m]\u001b[49m\u001b[38;5;241m.\u001b[39mappend(edge[\u001b[38;5;241m1\u001b[39m])\n\u001b[0;32m      6\u001b[0m \u001b[38;5;28;01mreturn\u001b[39;00m ls\n",
      "\u001b[1;31mIndexError\u001b[0m: list index out of range"
     ]
    }
   ],
   "source": [
    "V = {   1: \"Пиджак\", 2: \"Часы\", 3: \"Брюки\",\n",
    "        4: \"Рубашка\", 5: \"Трусы\", 6: \"Носки\",\n",
    "        7: \"Туфли\", 8: \"Галстук\", 9: \"Ремень\"}\n",
    "\n",
    "E = {(8, 1), (6, 7), (4, 9), (4, 8), (9, 1), (5, 3), (5, 7), (3, 7), (3, 9)}\n",
    "\n",
    "E = le_to_ls(E)\n",
    "topological_sort(E)\n",
    "print(E)"
   ]
  }
 ],
 "metadata": {
  "kernelspec": {
   "display_name": "Python 3",
   "language": "python",
   "name": "python3"
  },
  "language_info": {
   "codemirror_mode": {
    "name": "ipython",
    "version": 3
   },
   "file_extension": ".py",
   "mimetype": "text/x-python",
   "name": "python",
   "nbconvert_exporter": "python",
   "pygments_lexer": "ipython3",
   "version": "3.11.5"
  }
 },
 "nbformat": 4,
 "nbformat_minor": 2
}
