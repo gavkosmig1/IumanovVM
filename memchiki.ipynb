{
 "cells": [
  {
   "cell_type": "code",
   "execution_count": 4,
   "metadata": {},
   "outputs": [
    {
     "ename": "ValueError",
     "evalue": "too many values to unpack (expected 2)",
     "output_type": "error",
     "traceback": [
      "\u001b[1;31m---------------------------------------------------------------------------\u001b[0m",
      "\u001b[1;31mValueError\u001b[0m                                Traceback (most recent call last)",
      "Cell \u001b[1;32mIn[4], line 1\u001b[0m\n\u001b[1;32m----> 1\u001b[0m V, E \u001b[38;5;241m=\u001b[39m \u001b[38;5;28mmap\u001b[39m(\u001b[38;5;28mint\u001b[39m, \u001b[38;5;28minput\u001b[39m()\u001b[38;5;241m.\u001b[39msplit())\n\u001b[0;32m      2\u001b[0m edges \u001b[38;5;241m=\u001b[39m []\n\u001b[0;32m      4\u001b[0m \u001b[38;5;28;01mfor\u001b[39;00m _ \u001b[38;5;129;01min\u001b[39;00m \u001b[38;5;28mrange\u001b[39m(E):\n",
      "\u001b[1;31mValueError\u001b[0m: too many values to unpack (expected 2)"
     ]
    }
   ],
   "source": [
    "V, E = map(int, input().split())\n",
    "edges = []\n",
    "\n",
    "for _ in range(E):\n",
    "    F, S = map(int, input().split())\n",
    "    edges.append((F, S))\n",
    "\n",
    "def arrEdg_to_arrAdj(array: list):\n",
    "        arr = [[] for _ in range(V)]\n",
    "\n",
    "        for i in range(len(array)):\n",
    "            start = array[i][0]\n",
    "            end = array[i][1]\n",
    "            arr[start].append(end)\n",
    "            arr[end].append(start)\n",
    "\n",
    "        for i in range(len(arr)):\n",
    "            arr[i].sort()\n",
    "            if len(arr[i]) == 0:\n",
    "                 arr[i].append(\"-\")\n",
    "        return arr\n",
    "\n",
    "pupupu = arrEdg_to_arrAdj(edges)\n",
    "\n",
    "def isBipartite(V, adj):\n",
    "    col = [-1]*(V)\n",
    "    q = []\n",
    "    for i in range(V):\n",
    "        if (col[i] == -1):\n",
    "            q.append([i, 0])\n",
    "            col[i] = 0\n",
    "            while len(q) != 0:\n",
    "                p = q[0]\n",
    "                q.pop(0)\n",
    "                v = p[0]\n",
    "                c = p[1]\n",
    "                for j in adj[v]:\n",
    "                    if (col[j] == c):\n",
    "                        return False\n",
    "                    if (col[j] == -1):\n",
    "                        if c == 1:\n",
    "                            col[j] = 0\n",
    "                        else:\n",
    "                            col[j] = 1\n",
    "                        q.append([j, col[j]])\n",
    "    return True\n",
    "\n",
    "if isBipartite(V, pupupu):\n",
    "    print(\"Graph is bipartite\")\n",
    "else: print(\"Graph is not bipartite\")\n",
    "     "
   ]
  },
  {
   "cell_type": "code",
   "execution_count": 5,
   "metadata": {},
   "outputs": [
    {
     "ename": "ValueError",
     "evalue": "invalid literal for int() with base 10: '8 9'",
     "output_type": "error",
     "traceback": [
      "\u001b[1;31m---------------------------------------------------------------------------\u001b[0m",
      "\u001b[1;31mValueError\u001b[0m                                Traceback (most recent call last)",
      "Cell \u001b[1;32mIn[5], line 1\u001b[0m\n\u001b[1;32m----> 1\u001b[0m \u001b[38;5;28mprint\u001b[39m(\u001b[38;5;124m'\u001b[39m\u001b[38;5;124mграф двудольный\u001b[39m\u001b[38;5;124m'\u001b[39m \u001b[38;5;28;01mif\u001b[39;00m (\u001b[38;5;28;01mlambda\u001b[39;00m graph:(\u001b[38;5;28;01mlambda\u001b[39;00m n:(\u001b[38;5;28;01mlambda\u001b[39;00m color, queue:\u001b[38;5;28mall\u001b[39m([\u001b[38;5;28;01mTrue\u001b[39;00m \u001b[38;5;28;01mif\u001b[39;00m color[i][\u001b[38;5;241m0\u001b[39m] \u001b[38;5;241m!=\u001b[39m \u001b[38;5;241m-\u001b[39m\u001b[38;5;241m1\u001b[39m \u001b[38;5;28;01melse\u001b[39;00m ((\u001b[38;5;28;01mlambda\u001b[39;00m v:(\u001b[38;5;28;01mlambda\u001b[39;00m actions:(isBipartite\u001b[38;5;241m:=\u001b[39m\u001b[38;5;28;01mlambda\u001b[39;00m:((isBipartite() \u001b[38;5;28;01mif\u001b[39;00m (\u001b[38;5;28;01mlambda\u001b[39;00m u:(\u001b[38;5;28;01mlambda\u001b[39;00m cu:\u001b[38;5;28mall\u001b[39m([(\u001b[38;5;28;01mlambda\u001b[39;00m actions:\u001b[38;5;28;01mTrue\u001b[39;00m)([queue\u001b[38;5;241m.\u001b[39mappend(v), color[v]\u001b[38;5;241m.\u001b[39mpop(), color[v]\u001b[38;5;241m.\u001b[39mappend(\u001b[38;5;241m1\u001b[39m \u001b[38;5;241m-\u001b[39m cu)]) \u001b[38;5;28;01mif\u001b[39;00m color[v][\u001b[38;5;241m0\u001b[39m] \u001b[38;5;241m==\u001b[39m \u001b[38;5;241m-\u001b[39m\u001b[38;5;241m1\u001b[39m \u001b[38;5;28;01melse\u001b[39;00m color[v][\u001b[38;5;241m0\u001b[39m] \u001b[38;5;241m!=\u001b[39m cu \u001b[38;5;28;01mfor\u001b[39;00m v \u001b[38;5;129;01min\u001b[39;00m graph[u]]))(color[u][\u001b[38;5;241m0\u001b[39m]))(queue\u001b[38;5;241m.\u001b[39mpopleft()) \u001b[38;5;28;01melse\u001b[39;00m \u001b[38;5;28;01mFalse\u001b[39;00m) \u001b[38;5;28;01mif\u001b[39;00m \u001b[38;5;28mlen\u001b[39m(queue) \u001b[38;5;28;01melse\u001b[39;00m \u001b[38;5;28;01mTrue\u001b[39;00m))())([queue\u001b[38;5;241m.\u001b[39mappend(v), color[v]\u001b[38;5;241m.\u001b[39mpop(), color[v]\u001b[38;5;241m.\u001b[39mappend(\u001b[38;5;241m0\u001b[39m)])))(i) \u001b[38;5;28;01mfor\u001b[39;00m i \u001b[38;5;129;01min\u001b[39;00m \u001b[38;5;28mrange\u001b[39m(n)]))([[\u001b[38;5;241m-\u001b[39m\u001b[38;5;241m1\u001b[39m] \u001b[38;5;28;01mfor\u001b[39;00m _ \u001b[38;5;129;01min\u001b[39;00m \u001b[38;5;28mrange\u001b[39m(n)], \u001b[38;5;28m__import__\u001b[39m(\u001b[38;5;124m'\u001b[39m\u001b[38;5;124mcollections\u001b[39m\u001b[38;5;124m'\u001b[39m)\u001b[38;5;241m.\u001b[39mdeque()))(\u001b[38;5;28mlen\u001b[39m(graph)))([\u001b[38;5;28mlist\u001b[39m(\u001b[38;5;28mmap\u001b[39m(\u001b[38;5;28mint\u001b[39m, \u001b[38;5;28minput\u001b[39m(\u001b[38;5;124mf\u001b[39m\u001b[38;5;124m'\u001b[39m\u001b[38;5;124mвведите через пробел номера\u001b[39m\u001b[38;5;130;01m\\n\u001b[39;00m\u001b[38;5;124mвершин, смежных с вершиной \u001b[39m\u001b[38;5;132;01m{\u001b[39;00mi\u001b[38;5;132;01m}\u001b[39;00m\u001b[38;5;124m:\u001b[39m\u001b[38;5;130;01m\\n\u001b[39;00m\u001b[38;5;124m'\u001b[39m)\u001b[38;5;241m.\u001b[39msplit())) \u001b[38;5;28;01mfor\u001b[39;00m i \u001b[38;5;129;01min\u001b[39;00m \u001b[38;5;28mrange\u001b[39m(\u001b[38;5;28;43mint\u001b[39;49m\u001b[43m(\u001b[49m\u001b[38;5;28;43minput\u001b[39;49m\u001b[43m(\u001b[49m\u001b[38;5;124;43m'\u001b[39;49m\u001b[38;5;124;43mвведите кол-во вершин графа: \u001b[39;49m\u001b[38;5;124;43m'\u001b[39;49m\u001b[43m)\u001b[49m\u001b[43m)\u001b[49m)]) \u001b[38;5;28;01melse\u001b[39;00m \u001b[38;5;124m'\u001b[39m\u001b[38;5;124mграф не двудольный\u001b[39m\u001b[38;5;124m'\u001b[39m)\n",
      "\u001b[1;31mValueError\u001b[0m: invalid literal for int() with base 10: '8 9'"
     ]
    }
   ],
   "source": [
    "\n",
    "print('граф двудольный' if (lambda graph:(lambda n:(lambda color, queue:all([True if color[i][0] != -1 else ((lambda v:(lambda actions:(isBipartite:=lambda:((isBipartite() if (lambda u:(lambda cu:all([(lambda actions:True)([queue.append(v), color[v].pop(), color[v].append(1 - cu)]) if color[v][0] == -1 else color[v][0] != cu for v in graph[u]]))(color[u][0]))(queue.popleft()) else False) if len(queue) else True))())([queue.append(v), color[v].pop(), color[v].append(0)])))(i) for i in range(n)]))([[-1] for _ in range(n)], __import__('collections').deque()))(len(graph)))([list(map(int, input(f'введите через пробел номера\\nвершин, смежных с вершиной {i}:\\n').split())) for i in range(int(input('введите кол-во вершин графа: ')))]) else 'граф не двудольный')\n"
   ]
  },
  {
   "cell_type": "code",
   "execution_count": null,
   "metadata": {},
   "outputs": [],
   "source": []
  },
  {
   "cell_type": "code",
   "execution_count": null,
   "metadata": {},
   "outputs": [],
   "source": [
    "V, E = map(int, input().split())\n",
    "edges = []\n",
    "\n",
    "for _ in range(E):\n",
    "    F, S = map(int, input().split())\n",
    "    edges.append((F, S))\n",
    "\n",
    "def arrEdg_to_arrAdj(array: list):\n",
    "        arr = [[] for _ in range(V)]\n",
    "\n",
    "        for i in range(len(array)):\n",
    "            start = array[i][0]\n",
    "            end = array[i][1]\n",
    "            arr[start].append(end)\n",
    "            arr[end].append(start)\n",
    "\n",
    "        for i in range(len(arr)):\n",
    "            arr[i].sort()\n",
    "        return arr\n",
    "\n",
    "pupupu = arrEdg_to_arrAdj(edges)\n",
    "\n",
    "# visited = [False] * len(pupupu)\n",
    "# ans = []\n",
    "# def dfs(v):\n",
    "#     visited[v] = True\n",
    "#     ans.append(v)\n",
    "#     for i in pupupu[v]:\n",
    "#             if not visited[i] and len(pupupu[i]) != 0:\n",
    "#                 dfs(i)\n",
    "# dfs(1)\n",
    "\n",
    "\n",
    "# if len(ans) != 0:\n",
    "#      print(*ans)\n"
   ]
  },
  {
   "cell_type": "code",
   "execution_count": null,
   "metadata": {},
   "outputs": [],
   "source": []
  },
  {
   "cell_type": "code",
   "execution_count": null,
   "metadata": {},
   "outputs": [],
   "source": [
    "def isBipartite(V, adj):\n",
    "    col = [-1]*(V)\n",
    "    q = []\n",
    "    for i in range(V):\n",
    "        if (col[i] == -1):\n",
    "            q.append([i, 0])\n",
    "            col[i] = 0\n",
    "            while len(q) != 0:\n",
    "                p = q[0]\n",
    "                q.pop(0)\n",
    "                v = p[0]\n",
    "                c = p[1]\n",
    "                for j in adj[v]:\n",
    "                    if (col[j] == c):\n",
    "                        return False\n",
    "                    if (col[j] == -1):\n",
    "                        if c == 1:\n",
    "                            col[j] = 0\n",
    "                        else:\n",
    "                            col[j] = 1\n",
    "                        q.append([j, col[j]])\n",
    "    return True"
   ]
  },
  {
   "cell_type": "code",
   "execution_count": 1,
   "metadata": {},
   "outputs": [
    {
     "ename": "SyntaxError",
     "evalue": "incomplete input (3305529912.py, line 29)",
     "output_type": "error",
     "traceback": [
      "\u001b[1;36m  Cell \u001b[1;32mIn[1], line 29\u001b[1;36m\u001b[0m\n\u001b[1;33m    \u001b[0m\n\u001b[1;37m    ^\u001b[0m\n\u001b[1;31mSyntaxError\u001b[0m\u001b[1;31m:\u001b[0m incomplete input\n"
     ]
    }
   ],
   "source": [
    "\n",
    "g4 = [[1, 2],\n",
    "      [3],\n",
    "      [3],\n",
    "      [4],\n",
    "      [5, 6],\n",
    "      [7],\n",
    "      [7],\n",
    "      []]\n",
    "w4 = [[2, 1],\n",
    "        [2],\n",
    "        [3],\n",
    "        [4],\n",
    "        [1, 2],\n",
    "        [4],\n",
    "        [3],\n",
    "        []]\n",
    "\n",
    "Inf = 9999999\n",
    "source = 0\n",
    "\n",
    "def bellmanford(graph, graph_weights, start):\n",
    "    distances = [Inf] * len(graph)\n",
    "\n",
    "    def dfs(v):\n",
    "        for u in graph[v]:\n",
    "            for w in zip(graph_weights):\n",
    "                distances[u] = min(distances[u], distances[v] + graph_weights[u])\n",
    "            dfs(u)\n",
    "    \n",
    "    for i in range(len(graph) - 1):\n",
    "        dfs(start)\n",
    "\n",
    "    return distances\n",
    "\n",
    "\n",
    "\n",
    "\n"
   ]
  },
  {
   "cell_type": "code",
   "execution_count": null,
   "metadata": {},
   "outputs": [],
   "source": []
  }
 ],
 "metadata": {
  "kernelspec": {
   "display_name": "Python 3",
   "language": "python",
   "name": "python3"
  },
  "language_info": {
   "codemirror_mode": {
    "name": "ipython",
    "version": 3
   },
   "file_extension": ".py",
   "mimetype": "text/x-python",
   "name": "python",
   "nbconvert_exporter": "python",
   "pygments_lexer": "ipython3",
   "version": "3.11.5"
  }
 },
 "nbformat": 4,
 "nbformat_minor": 2
}
